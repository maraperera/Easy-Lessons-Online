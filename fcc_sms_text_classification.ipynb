{
  "cells": [
    {
      "cell_type": "markdown",
      "metadata": {
        "id": "view-in-github",
        "colab_type": "text"
      },
      "source": [
        "<a href=\"https://colab.research.google.com/github/maraperera/Easy-Lessons-Online/blob/main/fcc_sms_text_classification.ipynb\" target=\"_parent\"><img src=\"https://colab.research.google.com/assets/colab-badge.svg\" alt=\"Open In Colab\"/></a>"
      ]
    },
    {
      "cell_type": "code",
      "execution_count": null,
      "metadata": {
        "id": "8RZOuS9LWQvv"
      },
      "outputs": [],
      "source": [
        "# import libraries\n",
        "# try:\n",
        "#   # %tensorflow_version only exists in Colab.\n",
        "#   !pip install tf-nightly\n",
        "# except Exception:\n",
        "#   pass\n",
        "import tensorflow as tf\n",
        "import pandas as pd\n",
        "from tensorflow import keras\n",
        "!pip install tensorflow-datasets\n",
        "import tensorflow_datasets as tfds\n",
        "import numpy as np\n",
        "import matplotlib.pyplot as plt\n",
        "\n",
        "print(tf.__version__)"
      ]
    },
    {
      "cell_type": "code",
      "execution_count": null,
      "metadata": {
        "id": "lMHwYXHXCar3"
      },
      "outputs": [],
      "source": [
        "# get data files\n",
        "!wget https://cdn.freecodecamp.org/project-data/sms/train-data.tsv\n",
        "!wget https://cdn.freecodecamp.org/project-data/sms/valid-data.tsv\n",
        "\n",
        "train_file_path = \"train-data.tsv\"\n",
        "test_file_path = \"valid-data.tsv\""
      ]
    },
    {
      "cell_type": "code",
      "execution_count": null,
      "metadata": {
        "id": "g_h508FEClxO"
      },
      "outputs": [],
      "source": [
        "# Load the datasets\n",
        "train_df = pd.read_csv(train_file_path, sep='\\t', header=None, names=['label', 'text'])\n",
        "test_df = pd.read_csv(test_file_path, sep='\\t', header=None, names=['label', 'text'])\n",
        "\n",
        "# Map 'ham' to 0 and 'spam' to 1\n",
        "train_df['label'] = train_df['label'].map({'ham': 0, 'spam': 1})\n",
        "test_df['label'] = test_df['label'].map({'ham': 0, 'spam': 1})\n",
        "\n",
        "# Extract messages and labels\n",
        "train_labels = train_df['label'].values\n",
        "train_messages = train_df['text'].values\n",
        "\n",
        "test_labels = test_df['label'].values\n",
        "test_messages = test_df['text'].values\n",
        "\n",
        "# Tokenization and Padding\n",
        "vocab_size = 10000 # Max number of words to use\n",
        "embedding_dim = 32 # Increased embedding dimension\n",
        "max_len = 128 # Maximum sequence length\n",
        "\n",
        "tokenizer = keras.preprocessing.text.Tokenizer(num_words=vocab_size, oov_token=\"<unk>\")\n",
        "tokenizer.fit_on_texts(train_messages)\n",
        "\n",
        "train_sequences = tokenizer.texts_to_sequences(train_messages)\n",
        "train_padded = keras.preprocessing.sequence.pad_sequences(train_sequences, maxlen=max_len, padding='post', truncating='post')\n",
        "\n",
        "test_sequences = tokenizer.texts_to_sequences(test_messages)\n",
        "test_padded = keras.preprocessing.sequence.pad_sequences(test_sequences, maxlen=max_len, padding='post', truncating='post')\n",
        "\n",
        "# Build the improved model\n",
        "model = keras.Sequential([\n",
        "    keras.layers.Embedding(vocab_size, embedding_dim, input_length=max_len),\n",
        "    keras.layers.Bidirectional(keras.layers.LSTM(32)),\n",
        "    keras.layers.Dense(24, activation='relu'),\n",
        "    keras.layers.Dropout(0.2),\n",
        "    keras.layers.Dense(1, activation='sigmoid')\n",
        "])\n",
        "\n",
        "# Compile the model\n",
        "model.compile(optimizer='adam',\n",
        "              loss='binary_crossentropy',\n",
        "              metrics=['accuracy'])\n",
        "\n",
        "model.summary()\n",
        "\n",
        "# Train the model with more epochs\n",
        "num_epochs = 20 # Increased number of epochs\n",
        "print(f\"\\nTraining model for {num_epochs} epochs...\")\n",
        "history = model.fit(train_padded, train_labels,\n",
        "                    epochs=num_epochs,\n",
        "                    validation_data=(test_padded, test_labels),\n",
        "                    verbose=1)"
      ]
    },
    {
      "cell_type": "code",
      "execution_count": null,
      "metadata": {
        "id": "J9tD9yACG6M9"
      },
      "outputs": [],
      "source": [
        "# function to predict messages based on model\n",
        "# (should return list containing prediction score and label, ex. [0.008318834938108921, 'ham'])\n",
        "def predict_message(pred_text):\n",
        "  # 1. Convert text to sequence of integers using the fitted tokenizer\n",
        "  sequence = tokenizer.texts_to_sequences([pred_text])\n",
        "\n",
        "  # 2. Pad the sequence to match the input length (max_len) expected by the model.\n",
        "  padded_sequence = keras.preprocessing.sequence.pad_sequences(sequence, maxlen=max_len, padding='post', truncating='post')\n",
        "\n",
        "  # Get prediction score from the model.\n",
        "  prediction_score = model.predict(padded_sequence)[0][0]\n",
        "\n",
        "  # Determine label based on the prediction score\n",
        "  if prediction_score >= 0.5:\n",
        "    label = 'spam'\n",
        "  else:\n",
        "    label = 'ham'\n",
        "\n",
        "  # Return the prediction score\n",
        "  return [float(prediction_score), label]\n",
        "\n",
        "pred_text_example = \"how are you doing today?\"\n",
        "prediction_example = predict_message(pred_text_example)\n",
        "print(f\"\\nPrediction for '{pred_text_example}': {prediction_example}\")"
      ]
    },
    {
      "cell_type": "code",
      "execution_count": null,
      "metadata": {
        "id": "Dxotov85SjsC"
      },
      "outputs": [],
      "source": [
        "# Run this cell to test your function and model. Do not modify contents.\n",
        "def test_predictions():\n",
        "  test_messages = [\"how are you doing today\",\n",
        "                   \"sale today! to stop texts call 98912460324\",\n",
        "                   \"i dont want to go. can we try it a different day? available sat\",\n",
        "                   \"our new mobile video service is live. just install on your phone to start watching.\",\n",
        "                   \"you have won £1000 cash! call to claim your prize.\",\n",
        "                   \"i'll bring it tomorrow. don't forget the milk.\",\n",
        "                   \"wow, is your arm alright. that happened to me one time too\"\n",
        "                  ]\n",
        "\n",
        "  test_answers = [\"ham\", \"spam\", \"ham\", \"spam\", \"spam\", \"ham\", \"ham\"]\n",
        "  passed = True\n",
        "\n",
        "  for msg, ans in zip(test_messages, test_answers):\n",
        "    prediction = predict_message(msg)\n",
        "    if prediction[1] != ans:\n",
        "      passed = False\n",
        "\n",
        "  if passed:\n",
        "    print(\"You passed the challenge. Great job!\")\n",
        "  else:\n",
        "    print(\"You haven't passed yet. Keep trying.\")\n",
        "\n",
        "test_predictions()\n"
      ]
    }
  ],
  "metadata": {
    "colab": {
      "private_outputs": true,
      "provenance": [],
      "include_colab_link": true
    },
    "kernelspec": {
      "display_name": "Python 3",
      "name": "python3"
    },
    "language_info": {}
  },
  "nbformat": 4,
  "nbformat_minor": 0
}